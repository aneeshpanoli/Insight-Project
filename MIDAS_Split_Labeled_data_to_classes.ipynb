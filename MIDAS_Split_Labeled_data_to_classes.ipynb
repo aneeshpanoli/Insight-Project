{
 "cells": [
  {
   "cell_type": "markdown",
   "metadata": {},
   "source": [
    "Segment the table to different classes\n",
    "\n",
    "clases = Grades"
   ]
  },
  {
   "cell_type": "code",
   "execution_count": null,
   "metadata": {},
   "outputs": [],
   "source": [
    "#imports\n",
    "import os\n",
    "import pandas as pd\n",
    "import numpy as np"
   ]
  },
  {
   "cell_type": "code",
   "execution_count": null,
   "metadata": {},
   "outputs": [],
   "source": [
    "#set paths\n",
    "from os.path import expanduser\n",
    "HOME_DIR = expanduser(\"~\")\n",
    "def cd_main_data():\n",
    "    os.chdir(HOME_DIR+'/venvs/word_processing/data/')\n",
    "    \n",
    "def cd_bert_data():\n",
    "    os.chdir(HOME_DIR+'/venvs/bert/bert_ori/bert-master/data/')\n",
    "    \n",
    "def cd_home():\n",
    "    os.chdir(HOME_DIR)"
   ]
  },
  {
   "cell_type": "code",
   "execution_count": null,
   "metadata": {},
   "outputs": [],
   "source": [
    "#load data\n",
    "cd_main_data()\n",
    "df = pd.read_csv('midas_labeled_data_Q12018.csv')"
   ]
  },
  {
   "cell_type": "code",
   "execution_count": null,
   "metadata": {},
   "outputs": [],
   "source": [
    "#dim\n",
    "df.shape"
   ]
  },
  {
   "cell_type": "code",
   "execution_count": null,
   "metadata": {},
   "outputs": [],
   "source": [
    "#summary\n",
    "df.info()"
   ]
  },
  {
   "cell_type": "code",
   "execution_count": null,
   "metadata": {},
   "outputs": [],
   "source": [
    "#glimpse\n",
    "df.head()"
   ]
  },
  {
   "cell_type": "code",
   "execution_count": null,
   "metadata": {},
   "outputs": [],
   "source": [
    "#state the columns of interest\n",
    "columns_of_interest = ['midas_final_unstructured', 'cleaned_note_unstructured']\n",
    "\n",
    "#Extract columns 'midas_final_unstructured' and 'cleaned_note_unstructured'\n",
    "df_1 = df[columns_of_interest]\n",
    "df_1.shape"
   ]
  },
  {
   "cell_type": "code",
   "execution_count": null,
   "metadata": {},
   "outputs": [],
   "source": [
    "df_1.head()"
   ]
  },
  {
   "cell_type": "code",
   "execution_count": null,
   "metadata": {},
   "outputs": [],
   "source": [
    "\n",
    "\n",
    "#separate NaN\n",
    "df_nan = df_1[df_1['midas_final_unstructured'].isnull()]\n",
    "df_nan.head()\n",
    "\n"
   ]
  },
  {
   "cell_type": "code",
   "execution_count": null,
   "metadata": {},
   "outputs": [],
   "source": [
    "#save\n",
    "df_nan.to_csv('midas_labeled_data_Q12018_NaN_only.csv', index=None)"
   ]
  },
  {
   "cell_type": "code",
   "execution_count": null,
   "metadata": {},
   "outputs": [],
   "source": [
    "#class column name\n",
    "class_column = 'midas_final_unstructured'\n",
    "\n",
    "# classes in the table\n",
    "df_1[class_column].unique()"
   ]
  },
  {
   "cell_type": "code",
   "execution_count": null,
   "metadata": {},
   "outputs": [],
   "source": [
    "#label names in the table aka classes of labelled text\n",
    "classes = ['Invalid', 'Grade I', 'Grade II', 'Grade III', 'Grade IV']\n",
    "\n",
    "#full path to the save folder with file_name, should equal number of classes\n",
    "file_paths = ['midas_labeled_data_Q12018_Invalid_only.csv',\n",
    "             'midas_labeled_data_Q12018_grade1_only.csv',\n",
    "             'midas_labeled_data_Q12018_grade2_only.csv',\n",
    "             'midas_labeled_data_Q12018_grade3_only.csv',\n",
    "             'midas_labeled_data_Q12018_grade4_only.csv'\n",
    "            ]\n",
    "\n",
    "#method to sort and write out .csvs\n",
    "def separate_all_except_nan(df, class_column, classes, file_paths):\n",
    "    '''Separates classes to different tables. Except for nan\n",
    "        file_path is a list of filenames , number should equal classes\n",
    "    '''\n",
    "    if len(classes) != len(file_paths):\n",
    "        return 'Error: Number of classes does not equal the number of file_paths'\n",
    "    for i, j in enumerate(classes):\n",
    "        print(j)\n",
    "        df_class = df_1[df_1[class_column] == j]\n",
    "        df_class.to_csv(file_paths[i], index=None)\n",
    "\n"
   ]
  },
  {
   "cell_type": "code",
   "execution_count": null,
   "metadata": {},
   "outputs": [],
   "source": [
    "#seperate Invalid\n",
    "df_Invalid = df_1[df_1['midas_final_unstructured'] == 'Invalid']\n",
    "df_Invalid.head()"
   ]
  },
  {
   "cell_type": "code",
   "execution_count": null,
   "metadata": {},
   "outputs": [],
   "source": [
    "separate_all_except_nan(df, class_column, classes, file_paths)"
   ]
  },
  {
   "cell_type": "code",
   "execution_count": null,
   "metadata": {},
   "outputs": [],
   "source": [
    "#save\n",
    "df_Invalid.to_csv('midas_labeled_data_Q12018_Invalid_only.csv', index=None)"
   ]
  },
  {
   "cell_type": "code",
   "execution_count": null,
   "metadata": {},
   "outputs": [],
   "source": [
    "#separate Grade I\n",
    "df_grade1 = df_1[df_1['midas_final_unstructured'] == 'Grade I']\n",
    "df_grade1.head()"
   ]
  },
  {
   "cell_type": "code",
   "execution_count": null,
   "metadata": {},
   "outputs": [],
   "source": [
    "#save\n",
    "df_grade1.to_csv('midas_labeled_data_Q12018_grade1_only.csv', index=None)"
   ]
  },
  {
   "cell_type": "code",
   "execution_count": null,
   "metadata": {},
   "outputs": [],
   "source": [
    "#separate Grade II\n",
    "df_grade2 = df_1[df_1['midas_final_unstructured'] == 'Grade II']\n",
    "df_grade2.head()"
   ]
  },
  {
   "cell_type": "code",
   "execution_count": null,
   "metadata": {},
   "outputs": [],
   "source": [
    "#save\n",
    "df_grade2.to_csv('midas_labeled_data_Q12018_grade2_only.csv', index=None)"
   ]
  },
  {
   "cell_type": "code",
   "execution_count": null,
   "metadata": {},
   "outputs": [],
   "source": [
    "#separate Grade III\n",
    "df_grade3 = df_1[df_1['midas_final_unstructured'] == 'Grade III']\n",
    "df_grade3.head()"
   ]
  },
  {
   "cell_type": "code",
   "execution_count": null,
   "metadata": {},
   "outputs": [],
   "source": [
    "#save\n",
    "df_grade3.to_csv('midas_labeled_data_Q12018_grade3_only.csv', index=None)"
   ]
  },
  {
   "cell_type": "code",
   "execution_count": null,
   "metadata": {},
   "outputs": [],
   "source": [
    "#separate Grade IV\n",
    "#separate Grade III\n",
    "df_grade4 = df_1[df_1['midas_final_unstructured'] == 'Grade IV']\n",
    "df_grade4.head()"
   ]
  },
  {
   "cell_type": "code",
   "execution_count": null,
   "metadata": {},
   "outputs": [],
   "source": [
    "#save\n",
    "df_grade4.to_csv('midas_labeled_data_Q12018_grade4_only.csv', index=None)"
   ]
  },
  {
   "cell_type": "code",
   "execution_count": null,
   "metadata": {},
   "outputs": [],
   "source": [
    "\n",
    "\n"
   ]
  }
 ],
 "metadata": {
  "kernelspec": {
   "display_name": "Python 3",
   "language": "python",
   "name": "python3"
  },
  "language_info": {
   "codemirror_mode": {
    "name": "ipython",
    "version": 3
   },
   "file_extension": ".py",
   "mimetype": "text/x-python",
   "name": "python",
   "nbconvert_exporter": "python",
   "pygments_lexer": "ipython3",
   "version": "3.6.8"
  }
 },
 "nbformat": 4,
 "nbformat_minor": 2
}
