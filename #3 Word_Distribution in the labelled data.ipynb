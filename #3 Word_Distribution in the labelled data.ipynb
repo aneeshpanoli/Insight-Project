{
 "cells": [
  {
   "cell_type": "code",
   "execution_count": null,
   "metadata": {},
   "outputs": [],
   "source": [
    "#setup imports and paths\n",
    "import os\n",
    "import sys\n",
    "from os.path import expanduser\n",
    "\n",
    "\n",
    "HOME_DIR = expanduser(\"~\")\n",
    "sys.path.append(HOME_DIR+'/packages')"
   ]
  },
  {
   "cell_type": "code",
   "execution_count": null,
   "metadata": {},
   "outputs": [],
   "source": [
    "import os\n",
    "import pandas as pd\n",
    "from collections import Counter\n",
    "import pickle\n",
    "#load custom Midas tools\n",
    "from Midas import Midas_helper\n",
    "helper = Midas_helper()"
   ]
  },
  {
   "cell_type": "code",
   "execution_count": null,
   "metadata": {},
   "outputs": [],
   "source": [
    "def find_common(list_of_list):\n",
    "    return list(set.intersection(*map(set, list_of_list)))\n",
    "\n",
    "def find_unique(list_of_list):\n",
    "    return list(set.difference(*map(set, list_of_list)))"
   ]
  },
  {
   "cell_type": "code",
   "execution_count": null,
   "metadata": {},
   "outputs": [],
   "source": [
    "#label names in the table aka classes of labelled text\n",
    "classes = ['Invalid', 'Grade I', 'Grade II', 'Grade III', 'Grade IV']\n",
    "\n",
    "#full path to the save folder with file_name, should equal number of classes\n",
    "file_paths = ['midas_labeled_data_Q12018_Invalid_only.csv',\n",
    "             'midas_labeled_data_Q12018_grade1_only.csv',\n",
    "             'midas_labeled_data_Q12018_grade2_only.csv',\n",
    "             'midas_labeled_data_Q12018_grade3_only.csv',\n",
    "             'midas_labeled_data_Q12018_grade4_only.csv'\n",
    "            ]\n",
    "\n",
    "#method to sort and write out .csvs\n",
    "def separate_all_except_nan(df, class_column, classes, file_paths):\n",
    "    '''Separates classes to different tables. Except for nan\n",
    "        file_path is a list of filenames , number should equal classes\n",
    "    '''\n",
    "    if len(classes) != len(file_paths):\n",
    "        return 'Error: Number of classes does not equal the number of file_paths'\n",
    "    for i, j in enumerate(classes):\n",
    "        print(j)\n",
    "        df_class = df[df[class_column] == j]\n",
    "        df_class.to_csv(file_paths[i], index=None)"
   ]
  },
  {
   "cell_type": "code",
   "execution_count": null,
   "metadata": {},
   "outputs": [],
   "source": [
    "\n",
    "helper.cd_main_data()\n",
    "csv_name = 'midas_labeled_data_Q12018.csv'\n",
    "\n",
    "df = pd.read_csv(csv_name)"
   ]
  },
  {
   "cell_type": "code",
   "execution_count": null,
   "metadata": {},
   "outputs": [],
   "source": [
    "#class column name\n",
    "class_column = 'midas_final_unstructured'\n",
    "separate_all_except_nan(df, class_column, classes, file_paths)"
   ]
  },
  {
   "cell_type": "code",
   "execution_count": null,
   "metadata": {},
   "outputs": [],
   "source": [
    "\n",
    "#separate NaN\n",
    "df_nan = df[df['midas_final_unstructured'].isnull()]\n",
    "df_nan.head()\n",
    "\n",
    "#save\n",
    "df_nan.to_csv('midas_labeled_data_Q12018_NaN_only.csv', index=None)"
   ]
  },
  {
   "cell_type": "code",
   "execution_count": null,
   "metadata": {},
   "outputs": [],
   "source": [
    "\n",
    "# load class tables\n",
    "file_names = os.listdir(CLASS_TABLE)\n",
    "print(file_names)"
   ]
  },
  {
   "cell_type": "code",
   "execution_count": null,
   "metadata": {},
   "outputs": [],
   "source": [
    "#Each list of words within the list represents words in each class Invalid, nan, grade I, grade II, grade III, grade IV\n",
    "def make_words_list(file_names):\n",
    "    words_list = []\n",
    "    cd_class_tables()\n",
    "    for i in file_names:\n",
    "        df = pd.read_csv(i)\n",
    "        print(df.shape)\n",
    "        words_list.append(' '.join(df['cleaned_note_unstructured']\n",
    "                               .values.tolist()).split())\n",
    "    return words_list"
   ]
  },
  {
   "cell_type": "code",
   "execution_count": null,
   "metadata": {},
   "outputs": [],
   "source": [
    "#list of list of words\n",
    "words_list = make_words_list(file_names)"
   ]
  },
  {
   "cell_type": "code",
   "execution_count": null,
   "metadata": {},
   "outputs": [],
   "source": [
    "#count words in each category\n",
    "word_count = []\n",
    "for i in words_list: \n",
    "    word_count.append(len(i))\n",
    "    \n",
    "word_count"
   ]
  },
  {
   "cell_type": "code",
   "execution_count": null,
   "metadata": {},
   "outputs": [],
   "source": [
    "word_count = [108654, 9788373, 2396959, 911260, 1328957, 3469651]\n",
    "classes = ['Invalid', 'NaN', 'Grade I', 'Grade II', 'Grade III', 'Grade VI']"
   ]
  },
  {
   "cell_type": "code",
   "execution_count": null,
   "metadata": {},
   "outputs": [],
   "source": [
    "word_count_dict = dict(zip(classes, word_count))\n",
    "word_count_dict"
   ]
  },
  {
   "cell_type": "code",
   "execution_count": null,
   "metadata": {},
   "outputs": [],
   "source": [
    "row_count = [94, 8298, 2395, 1030, 1448, 3961]\n",
    "#average word count\n",
    "import copy\n",
    "word_avarage = copy.deepcopy(word_count_dict)\n",
    "for i, j in enumerate(classes):\n",
    "    word_avarage[j] = int(word_avarage[j]/row_count[i])\n",
    "word_avarage"
   ]
  },
  {
   "cell_type": "code",
   "execution_count": null,
   "metadata": {},
   "outputs": [],
   "source": [
    "# number of rows\n",
    "import matplotlib.pyplot as plt\n",
    "%matplotlib inline\n",
    "\n",
    "\n",
    "plt.bar(range(len(row_count)), row_count, align='center', color=['black', 'orange', 'red', 'green', 'blue', 'cyan'])\n",
    "plt.xticks(range(len(row_count)), classes)\n",
    "\n",
    "\n",
    "plt.show()"
   ]
  },
  {
   "cell_type": "code",
   "execution_count": null,
   "metadata": {},
   "outputs": [],
   "source": [
    "import matplotlib.pyplot as plt\n",
    "%matplotlib inline\n",
    "\n",
    "\n",
    "plt.bar(range(len(word_count_dict)), list(word_count_dict.values()), align='center', color=['black', 'orange', 'red', 'green', 'blue', 'cyan'])\n",
    "plt.xticks(range(len(word_count_dict)), list(word_count_dict.keys()))\n",
    "\n",
    "\n",
    "plt.show()"
   ]
  },
  {
   "cell_type": "code",
   "execution_count": null,
   "metadata": {},
   "outputs": [],
   "source": [
    "#averGE WORDS\n",
    "import matplotlib.pyplot as plt\n",
    "%matplotlib inline\n",
    "plt.bar(range(len(word_avarage)), list(word_avarage.values()), align='center', color=['black', 'orange', 'red', 'green', 'blue', 'cyan'])\n",
    "plt.xticks(range(len(word_avarage)), list(word_avarage.keys()))\n",
    "\n",
    "plt.show()"
   ]
  },
  {
   "cell_type": "code",
   "execution_count": null,
   "metadata": {},
   "outputs": [],
   "source": [
    "#find common words in the list\n",
    "common_words = set.intersection(*map(set, words_list))\n",
    "# list of words that are common between Invalid, nan, grade I, grade II, grade III, grade IV\n",
    "save_as_pickle(common_words, 'cmn_words_across_all_6_classes.pkl')"
   ]
  },
  {
   "cell_type": "code",
   "execution_count": null,
   "metadata": {},
   "outputs": [],
   "source": []
  },
  {
   "cell_type": "code",
   "execution_count": null,
   "metadata": {},
   "outputs": [],
   "source": [
    "print(list(common_words))"
   ]
  },
  {
   "cell_type": "code",
   "execution_count": null,
   "metadata": {},
   "outputs": [],
   "source": [
    "#remove all common words from the words_list\n",
    "words_list_no_common = [[j for j in i if j not in common_words] for i in words_list ]\n",
    "\n",
    "# list of list of words that are left after removing the common words \n",
    "save_as_pickle(words_list_no_common, 'words_after_removing_common_words.pkl')       "
   ]
  },
  {
   "cell_type": "code",
   "execution_count": null,
   "metadata": {},
   "outputs": [],
   "source": [
    "print(words_list_no_common[0])   #invalid"
   ]
  },
  {
   "cell_type": "code",
   "execution_count": null,
   "metadata": {},
   "outputs": [],
   "source": [
    "print(Counter(words_list_no_common[1])) #nan\n",
    "print(len(words_list_no_common[1]))"
   ]
  },
  {
   "cell_type": "code",
   "execution_count": null,
   "metadata": {},
   "outputs": [],
   "source": [
    "print(Counter(words_list_no_common[2])) # grade 1"
   ]
  },
  {
   "cell_type": "code",
   "execution_count": null,
   "metadata": {},
   "outputs": [],
   "source": [
    "print(Counter(words_list_no_common[3])) # grade 2"
   ]
  },
  {
   "cell_type": "code",
   "execution_count": null,
   "metadata": {},
   "outputs": [],
   "source": [
    "print(Counter(words_list_no_common[4])) # grade 3"
   ]
  },
  {
   "cell_type": "code",
   "execution_count": null,
   "metadata": {},
   "outputs": [],
   "source": [
    "print(Counter(words_list_no_common[5])) # grade 4"
   ]
  },
  {
   "cell_type": "code",
   "execution_count": null,
   "metadata": {},
   "outputs": [],
   "source": [
    "#is cvs common?\n",
    "print('CVS/pharmacy' in list(common_words))"
   ]
  },
  {
   "cell_type": "code",
   "execution_count": null,
   "metadata": {},
   "outputs": [],
   "source": [
    "# is cvs in invlid grade?\n",
    "print('CVS/pharmacy' in list(words_list_no_common[0])) #invalid"
   ]
  },
  {
   "cell_type": "code",
   "execution_count": null,
   "metadata": {},
   "outputs": [],
   "source": [
    "#is cvs in nan grade?\n",
    "print('CVS/pharmacy' in list(words_list_no_common[1])) #nan"
   ]
  },
  {
   "cell_type": "code",
   "execution_count": null,
   "metadata": {},
   "outputs": [],
   "source": [
    "# waht are the common words between nan and invalid?\n",
    "nan_in = list(set(words_list_no_common[0]) - set(words_list_no_common[1]))\n",
    "print(nan_in)"
   ]
  },
  {
   "cell_type": "code",
   "execution_count": null,
   "metadata": {},
   "outputs": [],
   "source": [
    "# waht are the common words between nan and Grade 1?\n",
    "nan_in = list(set(words_list_no_common[0]) - set(words_list_no_common[2]))\n",
    "print(nan_in)"
   ]
  },
  {
   "cell_type": "code",
   "execution_count": null,
   "metadata": {},
   "outputs": [],
   "source": [
    "ls"
   ]
  },
  {
   "cell_type": "code",
   "execution_count": null,
   "metadata": {},
   "outputs": [],
   "source": [
    "mv *.csv class_tables/"
   ]
  },
  {
   "cell_type": "code",
   "execution_count": null,
   "metadata": {},
   "outputs": [],
   "source": [
    "mv all_words_list_of_lists.pkl ../processed_data/"
   ]
  },
  {
   "cell_type": "code",
   "execution_count": null,
   "metadata": {},
   "outputs": [],
   "source": [
    "ls"
   ]
  },
  {
   "cell_type": "code",
   "execution_count": null,
   "metadata": {},
   "outputs": [],
   "source": []
  }
 ],
 "metadata": {
  "kernelspec": {
   "display_name": "Python 3",
   "language": "python",
   "name": "python3"
  },
  "language_info": {
   "codemirror_mode": {
    "name": "ipython",
    "version": 3
   },
   "file_extension": ".py",
   "mimetype": "text/x-python",
   "name": "python",
   "nbconvert_exporter": "python",
   "pygments_lexer": "ipython3",
   "version": "3.6.8"
  }
 },
 "nbformat": 4,
 "nbformat_minor": 2
}
