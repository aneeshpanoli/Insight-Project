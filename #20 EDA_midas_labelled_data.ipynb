{
 "cells": [
  {
   "cell_type": "code",
   "execution_count": null,
   "metadata": {},
   "outputs": [],
   "source": [
    "#setup imports and paths\n",
    "import os\n",
    "import sys\n",
    "from os.path import expanduser\n",
    "\n",
    "\n",
    "HOME_DIR = expanduser(\"~\")\n",
    "sys.path.append(HOME_DIR+'/packages')"
   ]
  },
  {
   "cell_type": "code",
   "execution_count": null,
   "metadata": {},
   "outputs": [],
   "source": [
    "#load custom Midas tools\n",
    "from Midas import Midas_helper\n",
    "helper = Midas_helper()"
   ]
  },
  {
   "cell_type": "code",
   "execution_count": null,
   "metadata": {},
   "outputs": [],
   "source": [
    "import numpy as np\n",
    "import pandas as pd\n",
    "from os import path\n",
    "from PIL import Image\n",
    "from wordcloud import WordCloud, STOPWORDS, ImageColorGenerator\n",
    "\n",
    "import matplotlib.pyplot as plt\n",
    "% matplotlib inline"
   ]
  },
  {
   "cell_type": "code",
   "execution_count": null,
   "metadata": {},
   "outputs": [],
   "source": [
    "helper.cd_main_data()\n",
    "import pandas as pd\n",
    "#load main Midas labelled data table\n",
    "df = pd.read_csv('midas_labeled_data_Q12018.csv')\n",
    "df['midas_final_unstructured'].fillna('No Score', inplace=True)\n",
    "df.head()"
   ]
  },
  {
   "cell_type": "code",
   "execution_count": null,
   "metadata": {},
   "outputs": [],
   "source": [
    "def make_wordcloud(txt):\n",
    "    \n",
    "    wordcloud = WordCloud(max_font_size=50, max_words=100, background_color=\"white\").generate(txt)\n",
    "    # Display the generated image:\n",
    "    plt.figure(figsize=(9, 9))\n",
    "    plt.imshow(wordcloud, interpolation='bilinear')\n",
    "    plt.axis(\"off\")\n",
    "    plt.show()"
   ]
  },
  {
   "cell_type": "code",
   "execution_count": null,
   "metadata": {},
   "outputs": [],
   "source": [
    "whole_txt = ' '.join(df['cleaned_note_unstructured'].values.tolist())\n",
    "    "
   ]
  },
  {
   "cell_type": "markdown",
   "metadata": {},
   "source": [
    "# Class Distribution - number of texts in each grade"
   ]
  },
  {
   "cell_type": "code",
   "execution_count": null,
   "metadata": {},
   "outputs": [],
   "source": [
    "row_nums = []\n",
    "class_names = []\n",
    "for i in df['midas_final_unstructured'].unique():\n",
    "    class_names.append(i)\n",
    "    row_nums.append(df[df['midas_final_unstructured'] == i].shape[0])\n",
    "fig, ax = plt.subplots()    \n",
    "width = 0.75 # the width of the bars \n",
    "ind = np.arange(len(row_nums))  # the x locations for the groups\n",
    "ax.barh(ind,row_nums, width, color=\"blue\")\n",
    "ax.set_yticks(ind+width/2)\n",
    "ax.set_yticklabels(class_names, minor=False)\n",
    "for i, v in enumerate(row_nums):\n",
    "    ax.text(v + 3, i + .25, str(v), color='blue', fontweight='bold')\n",
    "plt.title('Distribution of Classes in the training data')\n",
    "plt.xlabel('Number of samples (Texts)')\n",
    "plt.ylabel('Classes -Grades')"
   ]
  },
  {
   "cell_type": "markdown",
   "metadata": {},
   "source": [
    "# Word Representation whole data"
   ]
  },
  {
   "cell_type": "code",
   "execution_count": null,
   "metadata": {},
   "outputs": [],
   "source": [
    "wordcloud = WordCloud(max_font_size=50, max_words=100, background_color=\"white\").generate(whole_txt)\n",
    "\n",
    "# Display the generated image:\n",
    "plt.figure(figsize=(9, 9))\n",
    "plt.imshow(wordcloud, interpolation='bilinear')\n",
    "plt.axis(\"off\")\n",
    "plt.show()"
   ]
  },
  {
   "cell_type": "markdown",
   "metadata": {},
   "source": [
    "# Word representation 'No Score'"
   ]
  },
  {
   "cell_type": "code",
   "execution_count": null,
   "metadata": {},
   "outputs": [],
   "source": [
    "no_txt = ' '.join(df[df['midas_final_unstructured'] == \"No Score\"]['cleaned_note_unstructured'].values.tolist())\n",
    "\n",
    "\n",
    "wordcloud = WordCloud(max_font_size=50, max_words=100, background_color=\"white\").generate(no_txt)\n",
    "\n",
    "# Display the generated image:\n",
    "make_wordcloud(no_txt)"
   ]
  },
  {
   "cell_type": "markdown",
   "metadata": {},
   "source": [
    "# Word representation 'Invalid'"
   ]
  },
  {
   "cell_type": "code",
   "execution_count": null,
   "metadata": {},
   "outputs": [],
   "source": [
    "invalid = ' '.join(df[df['midas_final_unstructured'] == \"Invalid\"]['cleaned_note_unstructured'].values.tolist())\n",
    "make_wordcloud(invalid)"
   ]
  },
  {
   "cell_type": "markdown",
   "metadata": {},
   "source": [
    "# Word representation 'Grade 1'"
   ]
  },
  {
   "cell_type": "code",
   "execution_count": null,
   "metadata": {},
   "outputs": [],
   "source": [
    "grade1 = ' '.join(df[df['midas_final_unstructured'] == \"Grade I\"]['cleaned_note_unstructured'].values.tolist())\n",
    "make_wordcloud(grade1)"
   ]
  },
  {
   "cell_type": "markdown",
   "metadata": {},
   "source": [
    "# Word representation 'Grade 2'"
   ]
  },
  {
   "cell_type": "code",
   "execution_count": null,
   "metadata": {},
   "outputs": [],
   "source": [
    "grade2 = ' '.join(df[df['midas_final_unstructured'] == \"Grade II\"]['cleaned_note_unstructured'].values.tolist())\n",
    "make_wordcloud(grade2)"
   ]
  },
  {
   "cell_type": "markdown",
   "metadata": {},
   "source": [
    "# Word representation 'Grade 3'"
   ]
  },
  {
   "cell_type": "code",
   "execution_count": null,
   "metadata": {},
   "outputs": [],
   "source": [
    "grade3 = ' '.join(df[df['midas_final_unstructured'] == \"Grade II\"]['cleaned_note_unstructured'].values.tolist())\n",
    "make_wordcloud(grade3)"
   ]
  },
  {
   "cell_type": "markdown",
   "metadata": {},
   "source": [
    "# Word representation 'Grade 4'"
   ]
  },
  {
   "cell_type": "code",
   "execution_count": null,
   "metadata": {},
   "outputs": [],
   "source": [
    "grade4 = ' '.join(df[df['midas_final_unstructured'] == \"Grade II\"]['cleaned_note_unstructured'].values.tolist())\n",
    "make_wordcloud(grade4)"
   ]
  },
  {
   "cell_type": "markdown",
   "metadata": {},
   "source": [
    "# wordcloud after removing common words"
   ]
  },
  {
   "cell_type": "markdown",
   "metadata": {},
   "source": [
    "# Unique words"
   ]
  },
  {
   "cell_type": "code",
   "execution_count": null,
   "metadata": {},
   "outputs": [],
   "source": [
    "no_score_words = no_txt.split()\n",
    "invalid_words = invalid.split()\n",
    "grade1_words = grade1.split()\n",
    "grade2_words = grade2.split()\n",
    "grade3_words = grade3.split()\n",
    "grade4_words = grade4.split()\n"
   ]
  },
  {
   "cell_type": "markdown",
   "metadata": {},
   "source": [
    "   # Average number of words in each class"
   ]
  },
  {
   "cell_type": "code",
   "execution_count": null,
   "metadata": {},
   "outputs": [],
   "source": [
    "classs_num_texts_dict = dict(zip(class_names, row_nums))\n",
    "classs_num_texts_dict"
   ]
  },
  {
   "cell_type": "code",
   "execution_count": null,
   "metadata": {},
   "outputs": [],
   "source": [
    "noscore_avg = len(no_score_words)/classs_num_texts_dict['No Score']\n",
    "invalid_avg = len(invalid_words)/classs_num_texts_dict['Invalid']\n",
    "grade1_avg = len(grade1_words)/classs_num_texts_dict['Grade I']\n",
    "grade2_avg = len(grade2_words)/classs_num_texts_dict['Grade II']\n",
    "grade3_avg = len(grade3_words)/classs_num_texts_dict['Grade III']\n",
    "grade4_avg = len(grade4_words)/classs_num_texts_dict['Grade IV']\n",
    "\n",
    "x = list(classs_num_texts_dict.keys())\n",
    "y = [noscore_avg, invalid_avg, grade1_avg, grade2_avg, grade3_avg, grade4_avg]\n",
    "y = [int(i) for i in y]\n",
    "fig, ax = plt.subplots()    \n",
    "width = 0.75 # the width of the bars \n",
    "ind = np.arange(len(y))  # the x locations for the groups\n",
    "ax.barh(ind,y, width, color=\"orange\", alpha=0.5)\n",
    "ax.set_yticks(ind+width/2)\n",
    "ax.set_yticklabels(x, minor=False)\n",
    "for i, v in enumerate(y):\n",
    "    ax.text(v + 3, i + .25, str(v), color='blue', fontweight='bold')\n",
    "plt.title('Average number of words in each of the 6 classes')\n",
    "plt.xlabel('Number of samples (Texts)')\n",
    "plt.ylabel('Classes -Grades')\n",
    "plt.show()"
   ]
  },
  {
   "cell_type": "markdown",
   "metadata": {},
   "source": [
    "# Unique words in 'No Score'"
   ]
  },
  {
   "cell_type": "code",
   "execution_count": null,
   "metadata": {},
   "outputs": [],
   "source": [
    "unique_noscore =  set(no_score_words) - set(invalid_words+grade1_words+grade2_words+grade3_words+grade4_words)\n",
    "unique_noscore_txt = ' '.join(unique_noscore)\n",
    "make_wordcloud(unique_noscore_txt)"
   ]
  },
  {
   "cell_type": "markdown",
   "metadata": {},
   "source": [
    "# Unique words in 'Invalid'"
   ]
  },
  {
   "cell_type": "code",
   "execution_count": null,
   "metadata": {},
   "outputs": [],
   "source": [
    "unique_invalid = set(invalid_words) - set(no_score_words+grade1_words+grade2_words+grade3_words+grade4_words)\n",
    "unique_invalid_txt = ' '.join(unique_invalid)\n",
    "make_wordcloud(unique_invalid_txt)"
   ]
  },
  {
   "cell_type": "markdown",
   "metadata": {},
   "source": [
    "# Unique words in 'Grade I'"
   ]
  },
  {
   "cell_type": "code",
   "execution_count": null,
   "metadata": {},
   "outputs": [],
   "source": [
    "unique_grade1 =  set(grade1_words) - set(no_score_words+invalid_words+grade2_words+grade3_words+grade4_words)\n",
    "unique_grade1_txt = ' '.join(unique_grade1)\n",
    "make_wordcloud(unique_grade1_txt)"
   ]
  },
  {
   "cell_type": "markdown",
   "metadata": {},
   "source": [
    "# Unique words in 'Grade II'"
   ]
  },
  {
   "cell_type": "code",
   "execution_count": null,
   "metadata": {},
   "outputs": [],
   "source": [
    "unique_grade2 = set(grade2_words) - set(no_score_words+invalid_words+grade1_words+grade3_words+grade4_words)\n",
    "if not unique_grade2:\n",
    "    print('No unique words in Grade II')\n",
    "else:\n",
    "    unique_grade2_txt = ' '.join(unique_grade2)\n",
    "    make_wordcloud(unique_grade2_txt)"
   ]
  },
  {
   "cell_type": "markdown",
   "metadata": {},
   "source": [
    "# Unique words in 'Grade III'"
   ]
  },
  {
   "cell_type": "code",
   "execution_count": null,
   "metadata": {},
   "outputs": [],
   "source": [
    "unique_grade3 = set(grade3_words) - set(no_score_words+invalid_words+grade1_words+grade2_words+grade4_words)\n",
    "if not unique_grade3:\n",
    "    print('No unique words in Grade III')\n",
    "else:\n",
    "    unique_grade3_txt = ' '.join(unique_grade3)\n",
    "    make_wordcloud(unique_grade3_txt)"
   ]
  },
  {
   "cell_type": "markdown",
   "metadata": {},
   "source": [
    "# Unique words in 'Grade IV'"
   ]
  },
  {
   "cell_type": "code",
   "execution_count": null,
   "metadata": {},
   "outputs": [],
   "source": [
    "unique_grade4 = set(grade4_words) - set(no_score_words+invalid_words+grade1_words+grade2_words+grade3_words)\n",
    "if not unique_grade4:\n",
    "    print('No unique words in Grade IV')\n",
    "else:\n",
    "    unique_grade4_txt = ' '.join(unique_grade4)\n",
    "    make_wordcloud(unique_grade4_txt)"
   ]
  },
  {
   "cell_type": "code",
   "execution_count": null,
   "metadata": {},
   "outputs": [],
   "source": []
  }
 ],
 "metadata": {
  "kernelspec": {
   "display_name": "Python 3",
   "language": "python",
   "name": "python3"
  },
  "language_info": {
   "codemirror_mode": {
    "name": "ipython",
    "version": 3
   },
   "file_extension": ".py",
   "mimetype": "text/x-python",
   "name": "python",
   "nbconvert_exporter": "python",
   "pygments_lexer": "ipython3",
   "version": "3.6.8"
  }
 },
 "nbformat": 4,
 "nbformat_minor": 2
}
