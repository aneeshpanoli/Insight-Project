{
 "cells": [
  {
   "cell_type": "markdown",
   "metadata": {},
   "source": [
    "Location of test.tsv with actual labels is in cd_main_data()/train_test_val_spit\n",
    "Location of test.tsv with numerical labels is in cd_bert_data()\n",
    "Location of the main file before train test validation split is cd_main_data()\n",
    "\n",
    "to go from test with label to the BERT accepted test format use the method prepare_test_Data()\n",
    "to splti the main file to train test val use train_validate_test_split() with seed=2019\n",
    "\n",
    "Follwing is the dict for label mapping\n",
    "label_dict = {'No Grade': \"0\", 'Grade I':\"1\",'Grade II':\"2\",  'Grade III':\"3\", 'Grade IV':\"4\"}"
   ]
  },
  {
   "cell_type": "code",
   "execution_count": null,
   "metadata": {},
   "outputs": [],
   "source": [
    "import os\n",
    "import pandas as pd\n",
    "\n",
    "def cd_main_data():\n",
    "    os.chdir('/home/apanoli/venvs/word_processing/data/')\n",
    "    \n",
    "def cd_bert_data():\n",
    "    os.chdir('/home/apanoli/venvs/bert/bert_ori/bert-master/data/')\n",
    "    \n",
    "def cd_apanoli():\n",
    "    os.chdir('/home/apanoli')"
   ]
  },
  {
   "cell_type": "code",
   "execution_count": null,
   "metadata": {},
   "outputs": [],
   "source": [
    "# Process for prediction\n",
    "# this is the unlabelled patent data\n",
    "# you can use nrows to take a quick look\n",
    "\n",
    "#total rows in the csv is (16322699, 1)\n",
    "\n",
    "cd_main_data() # swith to data main data folder\n",
    "df = pd.read_csv('patient_note_aggregate_Jan18_notes_only.csv')\n",
    "df.head()"
   ]
  },
  {
   "cell_type": "code",
   "execution_count": null,
   "metadata": {},
   "outputs": [],
   "source": [
    "#remove nan values\n",
    "df1 = df.dropna()\n",
    "df1.head()"
   ]
  },
  {
   "cell_type": "code",
   "execution_count": null,
   "metadata": {},
   "outputs": [],
   "source": [
    "# preprocess the text use df.apply()\n",
    "\n",
    "import nltk\n",
    "import re\n",
    "from nltk.corpus import stopwords\n",
    "nltk.download(\"stopwords\")\n",
    "stop_words = stopwords.words('english')\n",
    "\n",
    "def preproces_text(row):\n",
    "    row = re.sub('([^\\s\\w]|_)+', '', row) # remove all NON alphanumeric EXCEPT white space\n",
    "    row = row.replace('\\n', ' ') # removes line breaks\n",
    "    row = row.replace('\\t', ' ') # removes tabs - final format is tsv, **important\n",
    "    # split row text in to list of words, remove STOP words and rejoin\n",
    "    return ' '.join([w for w in row.split() if not w in stop_words]).lower()\n",
    "    "
   ]
  },
  {
   "cell_type": "code",
   "execution_count": null,
   "metadata": {},
   "outputs": [],
   "source": [
    "df1['cleaned_note'] = df1['cleaned_note'].apply(preproces_text)\n",
    "df1.head()"
   ]
  },
  {
   "cell_type": "code",
   "execution_count": null,
   "metadata": {},
   "outputs": [],
   "source": [
    "df1.to_csv('unlabelled_notes_Jan18_processed.csv', index=None)"
   ]
  },
  {
   "cell_type": "code",
   "execution_count": null,
   "metadata": {},
   "outputs": [],
   "source": [
    "\n",
    "def save_as_tsv(df, file_name, move_to_bert=False):\n",
    "    '''saves the processed file to main data folder\n",
    "        filename = filename.tsv with no paths\n",
    "        set bool to True, if you need this to be moved to bert for prediction\n",
    "    '''\n",
    "    cd_main_data()\n",
    "    if not '.tsv' in file_name:\n",
    "        print(\"The file extention should be '.tsv', please check!!!\")\n",
    "        return\n",
    "    df.to_csv(file_name, sep='\\t', header=False, index=None)\n",
    "    \n",
    "    if move_to_bert:\n",
    "        cd_bert_data()\n",
    "        df.columns = ['clinical_note']\n",
    "        df.to_csv('test.tsv', sep='\\t', index=None)"
   ]
  },
  {
   "cell_type": "code",
   "execution_count": null,
   "metadata": {},
   "outputs": [],
   "source": [
    "# {0: \"0\", 1:\"1\",2:\"2\",  3:\"3\", 4:\"4\"}\n",
    "\n",
    "def grade_to_int(row):\n",
    "    label_dict = {'No Grade': \"0\", 'Grade I':\"1\",'Grade II':\"2\",  'Grade III':\"3\", 'Grade IV':\"4\"}\n",
    "    return label_dict[row]"
   ]
  },
  {
   "cell_type": "code",
   "execution_count": null,
   "metadata": {},
   "outputs": [],
   "source": [
    "\n",
    "def make_dev_tsv(df):\n",
    "    cd_bert_data()\n",
    "    df_dev = pd.read_csv('dev.tsv', sep='\\t', header=None)\n",
    "    df_dev[1] = df_dev[1].apply(grade_to_int)\n",
    "    df_dev.to_csv('dev.tsv', sep='\\t', index=None, header=False)\n",
    "    \n",
    "def make_train_tsv(df):\n",
    "    cd_bert_data()\n",
    "    df_train = pd.read_csv('train.tsv', sep='\\t', header=None)\n",
    "    df_train[1] = df_train[1].apply(grade_to_int)\n",
    "    df_train.to_csv('train.tsv', sep='\\t', index=None, header=False)\n",
    "    \n",
    "    \n",
    "def make_test_tsv(df):\n",
    "    cd_bert_data()\n",
    "    df_test = pd.read_csv('test.tsv', sep='\\t', header=None)\n",
    "    df_train[1] = df_train[1].apply(grade_to_int)\n",
    "    df_train.to_csv('test.tsv', sep='\\t', index=None, header=False)"
   ]
  },
  {
   "cell_type": "code",
   "execution_count": null,
   "metadata": {},
   "outputs": [],
   "source": [
    "save_as_tsv(df, 'unlabelled_notes_Jan18_100_samples_processed.tsv', move_to_bert=True)"
   ]
  },
  {
   "cell_type": "code",
   "execution_count": null,
   "metadata": {},
   "outputs": [],
   "source": [
    "cd_main_data()\n",
    "!rm df_unlabelled_notes_Jan18_100_samples_processed.tsv"
   ]
  },
  {
   "cell_type": "code",
   "execution_count": null,
   "metadata": {},
   "outputs": [],
   "source": [
    "cd_bert_data()\n",
    "df_test = pd.read_csv('/home/apanoli/venvs/bert/verana/BERT_NLP_Classification-master/DATA_DIR/test.tsv', sep='\\t')\n",
    "df_test.head()"
   ]
  },
  {
   "cell_type": "code",
   "execution_count": null,
   "metadata": {},
   "outputs": [],
   "source": [
    "label_dict = {'No Grade': 0, 'Grade I':1,'Grade II':2,  'Grade III':3, 'Grade IV':4}"
   ]
  },
  {
   "cell_type": "code",
   "execution_count": null,
   "metadata": {},
   "outputs": [],
   "source": []
  },
  {
   "cell_type": "code",
   "execution_count": null,
   "metadata": {},
   "outputs": [],
   "source": [
    "import numpy as np\n",
    "# df_test.drop('midas_score', axis=1, inplace=True)\n",
    "# df_test['ID'] = np.arange(len(df_test))\n",
    "df_test = df_test[['ID', 'clinical_note']]\n",
    "df_test.head()\n",
    "#test set must have header"
   ]
  },
  {
   "cell_type": "code",
   "execution_count": null,
   "metadata": {},
   "outputs": [],
   "source": [
    "df_test.head(10).to_csv('test.tsv', sep='\\t', index=None)"
   ]
  },
  {
   "cell_type": "code",
   "execution_count": null,
   "metadata": {},
   "outputs": [],
   "source": [
    "ls"
   ]
  },
  {
   "cell_type": "code",
   "execution_count": null,
   "metadata": {},
   "outputs": [],
   "source": [
    "cd_bert_data()"
   ]
  },
  {
   "cell_type": "code",
   "execution_count": null,
   "metadata": {},
   "outputs": [],
   "source": [
    "df_test = pd.read_csv('test.tsv', sep='\\t', header=None)\n",
    "df_test.head()"
   ]
  },
  {
   "cell_type": "code",
   "execution_count": null,
   "metadata": {},
   "outputs": [],
   "source": [
    "df_train.head()"
   ]
  },
  {
   "cell_type": "code",
   "execution_count": null,
   "metadata": {},
   "outputs": [],
   "source": [
    "df_train[1] = df_train[1].apply(grade_to_int)\n",
    "df_train.head()"
   ]
  },
  {
   "cell_type": "code",
   "execution_count": null,
   "metadata": {},
   "outputs": [],
   "source": [
    "df_train.to_csv('dev.tsv', sep='\\t', index=None, header=False)"
   ]
  },
  {
   "cell_type": "code",
   "execution_count": null,
   "metadata": {},
   "outputs": [],
   "source": [
    "ls"
   ]
  },
  {
   "cell_type": "code",
   "execution_count": null,
   "metadata": {},
   "outputs": [],
   "source": [
    "cd_main_data()"
   ]
  },
  {
   "cell_type": "code",
   "execution_count": null,
   "metadata": {},
   "outputs": [],
   "source": [
    "cd test_train_80_20/"
   ]
  },
  {
   "cell_type": "code",
   "execution_count": null,
   "metadata": {},
   "outputs": [],
   "source": [
    "ls"
   ]
  },
  {
   "cell_type": "code",
   "execution_count": null,
   "metadata": {},
   "outputs": [],
   "source": [
    "def prepare_test_Data():\n",
    "    os.chdir('/home/apanoli/venvs/word_processing/data/train_test_val_60_20_20')\n",
    "    df_test = pd.read_csv('test.tsv', sep='\\t')\n",
    "    df_test = df_test[['clinical_note']]\n",
    "    df_test['ID'] = np.arange(len(df_test))\n",
    "    df_test = df_test[['ID', 'clinical_note']]\n",
    "    cd_bert_data()\n",
    "    df_test.to_csv('test.tsv', sep='\\t', index=None)\n"
   ]
  },
  {
   "cell_type": "code",
   "execution_count": null,
   "metadata": {},
   "outputs": [],
   "source": [
    "prepare_test_Data()"
   ]
  },
  {
   "cell_type": "code",
   "execution_count": null,
   "metadata": {},
   "outputs": [],
   "source": [
    "cd_bert_data()\n",
    "df_testr = pd.read_csv('test.tsv')\n",
    "df_testr.head()"
   ]
  },
  {
   "cell_type": "code",
   "execution_count": null,
   "metadata": {},
   "outputs": [],
   "source": [
    "mv test.tsv testr.tsv"
   ]
  },
  {
   "cell_type": "code",
   "execution_count": null,
   "metadata": {},
   "outputs": [],
   "source": [
    "cd_bert_data()\n",
    "df_testr = pd.read_csv('test.tsv', sep='\\t')\n",
    "df_testr.head()"
   ]
  },
  {
   "cell_type": "code",
   "execution_count": null,
   "metadata": {},
   "outputs": [],
   "source": [
    "os.chdir('/home/apanoli/test_train_80_20')\n",
    "df_test_csv = pd.read_csv('test.csv')\n",
    "df_test_csv.head()"
   ]
  },
  {
   "cell_type": "code",
   "execution_count": null,
   "metadata": {},
   "outputs": [],
   "source": [
    "cd .."
   ]
  },
  {
   "cell_type": "code",
   "execution_count": null,
   "metadata": {},
   "outputs": [],
   "source": [
    "cd train_test_val_60_20_20"
   ]
  },
  {
   "cell_type": "code",
   "execution_count": null,
   "metadata": {},
   "outputs": [],
   "source": [
    "def train_validate_test_split(df, train_percent=.6, validate_percent=.2, seed=None):\n",
    "    ''' train, val, test split for ML purposes, saves in the \n",
    "   current folder as train, val, test csvs \n",
    "    '''\n",
    "    os.chdir('/home/apanoli/venvs/word_processing/data/train_test_val_60_20_20')\n",
    "    np.random.seed(seed)\n",
    "    perm = np.random.permutation(df.index)\n",
    "    m = len(df.index)\n",
    "    train_end = int(train_percent * m)\n",
    "    validate_end = int(validate_percent * m) + train_end\n",
    "    train = df.iloc[perm[:train_end]]\n",
    "    validate = df.iloc[perm[train_end:validate_end]]\n",
    "    test = df.iloc[perm[validate_end:]]\n",
    "    train.to_csv('train.tsv', sep='\\t', index=None) # train set\n",
    "    validate.to_csv('dev.tsv', sep='\\t', index=None) # validation set\n",
    "    test.to_csv('test.tsv', sep='\\t', index=None)# test set"
   ]
  },
  {
   "cell_type": "code",
   "execution_count": null,
   "metadata": {},
   "outputs": [],
   "source": [
    "cd_main_data()"
   ]
  },
  {
   "cell_type": "code",
   "execution_count": null,
   "metadata": {},
   "outputs": [],
   "source": [
    "df_all = pd.read_csv('midas_labeled_data_Q12018_no_stop_lower_case.csv')\n",
    "df_all.head()"
   ]
  },
  {
   "cell_type": "code",
   "execution_count": null,
   "metadata": {},
   "outputs": [],
   "source": [
    "cd train_test_val_60_20_20/"
   ]
  },
  {
   "cell_type": "code",
   "execution_count": null,
   "metadata": {},
   "outputs": [],
   "source": [
    "ls"
   ]
  },
  {
   "cell_type": "code",
   "execution_count": null,
   "metadata": {},
   "outputs": [],
   "source": []
  }
 ],
 "metadata": {
  "kernelspec": {
   "display_name": "Python 3",
   "language": "python",
   "name": "python3"
  },
  "language_info": {
   "codemirror_mode": {
    "name": "ipython",
    "version": 3
   },
   "file_extension": ".py",
   "mimetype": "text/x-python",
   "name": "python",
   "nbconvert_exporter": "python",
   "pygments_lexer": "ipython3",
   "version": "3.6.8"
  }
 },
 "nbformat": 4,
 "nbformat_minor": 2
}
