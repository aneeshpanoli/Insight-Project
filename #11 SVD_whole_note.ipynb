{
 "cells": [
  {
   "cell_type": "code",
   "execution_count": null,
   "metadata": {},
   "outputs": [],
   "source": []
  },
  {
   "cell_type": "code",
   "execution_count": null,
   "metadata": {},
   "outputs": [],
   "source": [
    "# Apply SVD, I chose 120 components. 120-200 components are good enough for SVM model.\n",
    "svd = decomposition.TruncatedSVD(n_components=120)\n",
    "svd.fit(xtrain_tfv)\n",
    "xtrain_svd = svd.transform(xtrain_tfv)\n",
    "xvalid_svd = svd.transform(xvalid_tfv)\n",
    "\n",
    "# Scale the data obtained from SVD. Renaming variable to reuse without scaling.\n",
    "scl = preprocessing.StandardScaler()\n",
    "scl.fit(xtrain_svd)\n",
    "xtrain_svd_scl = scl.transform(xtrain_svd)\n",
    "xvalid_svd_scl = scl.transform(xvalid_svd)"
   ]
  },
  {
   "cell_type": "code",
   "execution_count": null,
   "metadata": {},
   "outputs": [],
   "source": [
    "\n",
    "import matplotlib\n",
    "svd_sum = [i.sum() for i in xtrain_svd]\n",
    "colors = ['red','green','blue','purple', 'orange', 'black']\n",
    "label = ytrain\n",
    "fig, ax = plt.subplots(1, 1, figsize=(6, 6))\n",
    "plt.scatter(svd_sum, y = ytrain, c=label, cmap=matplotlib.colors.ListedColormap(colors))\n",
    "print(class_dict.keys())\n",
    "ax.set_yticklabels(class_dict.keys())\n",
    "plt.show()"
   ]
  },
  {
   "cell_type": "code",
   "execution_count": null,
   "metadata": {},
   "outputs": [],
   "source": [
    "#2d plot data\n",
    "xtrain_svd_X = []\n",
    "xtrain_svd_Y = []\n",
    "\n",
    "for i in xtrain_svd:\n",
    "    neg_list = []\n",
    "    pos_list = []\n",
    "    for j in i:\n",
    "        if j < 0:\n",
    "            neg_list.append(j)\n",
    "        else:\n",
    "            pos_list.append(j)\n",
    "    xtrain_svd_X.append(sum(pos_list))\n",
    "    xtrain_svd_Y.append(sum(neg_list))\n",
    "print(len(xtrain_svd_X))\n",
    "print(len(xtrain_svd_Y)) "
   ]
  },
  {
   "cell_type": "code",
   "execution_count": null,
   "metadata": {},
   "outputs": [],
   "source": [
    "\n",
    "colors = ['red','green','blue','purple', 'orange', 'black']\n",
    "label = ytrain\n",
    "fig, ax = plt.subplots(1, 1, figsize=(9, 6))\n",
    "plt.scatter(xtrain_svd_X, xtrain_svd_Y, c=label, cmap=matplotlib.colors.ListedColormap(colors))\n",
    "cb = plt.colorbar()\n",
    "loc = np.arange(0,max(label),max(label)/float(len(colors)))\n",
    "cb.set_ticks(loc)\n",
    "cb.set_ticklabels(list(class_dict.keys()))"
   ]
  },
  {
   "cell_type": "code",
   "execution_count": null,
   "metadata": {},
   "outputs": [],
   "source": [
    "from mpl_toolkits.mplot3d import Axes3D\n",
    "colors = ['red','green','blue','purple', 'orange', 'black']\n",
    "label = ytrain\n",
    "fig = plt.figure(figsize=(9, 9))\n",
    "ax = fig.add_subplot(111, projection='3d')\n",
    "plt.scatter(xtrain_svd_X, xtrain_svd_Y, ytrain, c=label, cmap=matplotlib.colors.ListedColormap(colors))\n",
    "plt.show()"
   ]
  },
  {
   "cell_type": "code",
   "execution_count": null,
   "metadata": {},
   "outputs": [],
   "source": [
    "plt.plot(xtrain_svd[1])\n",
    "plt.show()"
   ]
  },
  {
   "cell_type": "code",
   "execution_count": null,
   "metadata": {},
   "outputs": [],
   "source": [
    "svd.get_params()"
   ]
  }
 ],
 "metadata": {
  "kernelspec": {
   "display_name": "Python 3",
   "language": "python",
   "name": "python3"
  },
  "language_info": {
   "codemirror_mode": {
    "name": "ipython",
    "version": 3
   },
   "file_extension": ".py",
   "mimetype": "text/x-python",
   "name": "python",
   "nbconvert_exporter": "python",
   "pygments_lexer": "ipython3",
   "version": "3.6.8"
  }
 },
 "nbformat": 4,
 "nbformat_minor": 2
}
